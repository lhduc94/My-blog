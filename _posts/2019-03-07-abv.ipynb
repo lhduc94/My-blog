{
 "cells": [
  {
   "cell_type": "markdown",
   "metadata": {},
   "source": [
    "---\n",
    "title: Applying logistic regression in Python\n",
    "---\n",
    "\n",
    "...from lessons learned from Andrew Ng's [ML course](https://www.youtube.com/watch?v=-la3q9d7AKQ). Like other assignments of the course, the logistic regression assignment used MATLAB. Here, I also translate MATLAB code into Python. I apply the mathematical concepts and the Python code to a datset I evaluated in another [project](https://benslack19.github.io/projects/predicting_states_sc_analysis/#supervised-machine-learning). Check out the project link for more context to this post."
   ]
  },
  {
   "cell_type": "markdown",
   "metadata": {},
   "source": [
    "## Import packages and data from project notebook"
   ]
  },
  {
   "cell_type": "code",
   "execution_count": 1,
   "metadata": {
    "collapsed": true
   },
   "outputs": [],
   "source": [
    "# Import packages\n",
    "import os\n",
    "import pandas as pd\n",
    "import numpy as np\n",
    "import matplotlib.pyplot as plt\n",
    "import seaborn as sns\n",
    "%matplotlib inline"
   ]
  },
  {
   "cell_type": "markdown",
   "metadata": {},
   "source": [
    "I followed this StackOverflow [post](https://stackoverflow.com/questions/31621414/share-data-between-ipython-notebooks) to store and transfer the data from my [activation state project](https://benslack19.github.io/projects/predicting_states_sc_analysis/#supervised-machine-learning) into this Jupyter notebook and post."
   ]
  },
  {
   "cell_type": "code",
   "execution_count": 7,
   "metadata": {},
   "outputs": [
    {
     "name": "stdout",
     "output_type": "stream",
     "text": [
      "no stored variable # This is the entire data\n",
      "no stored variable # This is the activation state label.\n"
     ]
    }
   ],
   "source": [
    "# Import data\n",
    "%store -r X   # This is the entire data  \n",
    "%store -r y   # This is the activation state label."
   ]
  },
  {
   "cell_type": "markdown",
   "metadata": {},
   "source": [
    "I chose two genes that showed reasonable, but not wide, separation between the groups."
   ]
  },
  {
   "cell_type": "code",
   "execution_count": 63,
   "metadata": {
    "collapsed": true
   },
   "outputs": [],
   "source": [
    "gene1 = 'Plk2'\n",
    "gene2 = 'Ankrd33b'\n",
    "X = X.loc[:,[gene1, gene2]]"
   ]
  },
  {
   "cell_type": "markdown",
   "metadata": {},
   "source": [
    "## Logistic regression functions\n",
    "\n",
    "I use the naming conventions of the Ng course. The logistic regression model is such that we want the hypothesis to be within the bounds 0 and 1.\n",
    "\n",
    "$$ 0 \\leq h_{\\theta}(x) \\leq 1$$\n",
    "\n",
    "If $$ h_{\\theta}(x) = g(\\theta^Tx) $$ and $$ g(z) = \\frac{1}{1 + exp(-z)}\\ $$\n",
    "then\n",
    "\n",
    "$$ h_{\\theta}(x) = \\frac{1}{1 + exp(-\\theta^Tx)} $$\n",
    "\n",
    "The objective will be to determine the parameters $\\theta$.\n",
    "\n",
    "To do this, we will minimize the logistic regression cost function\n",
    "\n",
    "$$ J(\\theta) = \\frac{1}{m} \\sum_{i=1}^{m}[-y^{(i)}\\log(h_{\\theta}(x^{(i)}))-(1-y^{(i)})\\log(1-h_{\\theta}(x^{(i)}))] $$\n",
    "\n",
    "The gradient equation is $$ \\frac{\\partial J(\\theta)}{\\partial \\theta_{j}} = \\frac{1}{m} \\sum_{i=1}^{m}(h_{\\theta}(x^{(i)}))-y^{(i)})x^{(i)}_{j} $$"
   ]
  },
  {
   "cell_type": "markdown",
   "metadata": {},
   "source": [
    "## Plotting\n",
    "We start the exercise by first plotting the top two features of the data. Blue is the negative class, red is the positive class."
   ]
  },
  {
   "cell_type": "code",
   "execution_count": 68,
   "metadata": {},
   "outputs": [
    {
     "data": {
      "image/png": "[encoded data removed]",
      "text/plain": [
       "<matplotlib.figure.Figure at 0x12070f048>"
      ]
     },
     "metadata": {},
     "output_type": "display_data"
    }
   ],
   "source": [
    "# Matplotlib plotting syntax isdifferent from MATLAB\n",
    "f, (ax1) = plt.subplots(1,1);\n",
    "mask = y==0;\n",
    "ax1.scatter(x=X.loc[mask,gene1], y=X.loc[mask,gene2], color='blue', label='neg');\n",
    "mask = y==1;\n",
    "ax1.scatter(x=X.loc[mask,gene1], y=X.loc[mask,gene2], color='red', label='pos');\n",
    "ax1.set_xlabel('gene 1');\n",
    "ax1.set_ylabel('gene 2');\n",
    "ax1.legend();"
   ]
  },
  {
   "cell_type": "markdown",
   "metadata": {},
   "source": [
    "## Compute Cost and Gradient\n",
    "\n",
    "These were the directions in the MATLAB code of the ML course assignment:\n",
    "\"In this part of the exercise, you will implement the cost and gradient\n",
    "for logistic regression. You need to complete the code in costFunction.m.\"\n",
    "\n",
    "I'll make each function a separate Jupyter cell."
   ]
  },
  {
   "cell_type": "code",
   "execution_count": 69,
   "metadata": {
    "collapsed": true
   },
   "outputs": [],
   "source": [
    "# Sigmoid function\n",
    "def sigmoid(z):\n",
    "    return (1 / (1 + np.exp(-z)))"
   ]
  },
  {
   "cell_type": "code",
   "execution_count": 70,
   "metadata": {
    "collapsed": true
   },
   "outputs": [],
   "source": [
    "# Cost function\n",
    "def costFunction(theta, X, y):\n",
    "    # Initialize some useful values\n",
    "    m = len(y);\n",
    "    J = 0;\n",
    "    grad = np.zeros(theta.shape)\n",
    "    \n",
    "    # -- code exercise from class (MATLAB code commented out)--- \n",
    "    # h = sigmoid(X*theta);\n",
    "    h = sigmoid(np.dot(X, theta)).flatten()  # flatten needed from testing\n",
    "    # J = 1/m*((-y'*log(h))-(1-y)'*log(1-h)); \n",
    "    step1 = np.dot(y.T, np.log(h))\n",
    "    step2 = np.dot((1-y).T, np.log(1-h))\n",
    "    J = (1/m)*(-step1-step2);\n",
    "    # grad = 1/m*(X'*(h-y));\n",
    "    grad = (1/m)*(np.dot(X.T,(h-y)));\n",
    "    return (J, grad)"
   ]
  },
  {
   "cell_type": "code",
   "execution_count": 71,
   "metadata": {
    "collapsed": true
   },
   "outputs": [],
   "source": [
    "# Setup the data matrix appropriately, and add ones for the intercept term\n",
    "# [m, n] = size(X);\n",
    "(m, n) = X.shape;\n",
    "\n",
    "# Add intercept term to x and X_test\n",
    "# X = [ones(m, 1) X];\n",
    "X.insert(loc=0, column='x0', value=np.ones((m, 1)))\n",
    "\n",
    "# Initialize fitting parameters\n",
    "# initial_theta = zeros(n + 1, 1);\n",
    "initial_theta = np.zeros((n + 1, 1));"
   ]
  },
  {
   "cell_type": "code",
   "execution_count": 72,
   "metadata": {},
   "outputs": [
    {
     "name": "stdout",
     "output_type": "stream",
     "text": [
      "Cost at initial theta (zeros):  0.69314718056\n",
      "Gradient at test theta: \n",
      " [ 0.0890411  -1.32378626 -1.42244151]\n"
     ]
    }
   ],
   "source": [
    "# Compute and display initial cost and gradient\n",
    "# [cost, grad] = costFunction(initial_theta, X, y);\n",
    "(cost, grad) = costFunction(initial_theta, X, y);\n",
    "print('Cost at initial theta (zeros): ', cost);\n",
    "print('Gradient at test theta: \\n', grad);"
   ]
  },
  {
   "cell_type": "markdown",
   "metadata": {},
   "source": [
    "## Optimizing using fmin_tnc for Python (fminunc in MATLAB)\n",
    "\n",
    "Course directions say: \"In this exercise, you will use a built-in function (fminunc) to find the optimal parameters theta.\"\n",
    "\n",
    "Here's where things got tricky for me. I initially wasn't sure what optimization function to use. I was both informed and confused by what I found online, partly because sometimes cost and gradient were calculated in separate functions. In the MATLAB course, the cost and gradient were returned in the same function (```costFunction```) so I did the same. This is what course notes said about using ```fminunc```:\n",
    "\n",
    "*\"In this code snippet, we first defined the options to be used with fminunc. Specifically, we set the GradObj option to on, which tells ```fminunc``` that our function returns both the cost and the gradient. This allows fminunc to use the gradient when minimizing the function.\"*\n",
    "\n",
    "The Python minimizatioon function I settled on using was [```fmin_tnc```](https://docs.scipy.org/doc/scipy-0.14.0/reference/generated/scipy.optimize.fmin_tnc.html) which I chose from looking at [this post](http://www.johnwittenauer.net/machine-learning-exercises-in-python-part-3/). In that example, the author had gradient as a separate function. From looking at the documentation, it looks like ```fmin_tnc``` can handle the optimized function either with or without the gradient being returned. If it's not returned, one has to specify the gradient function in the ```fprime``` parameter of ```fmin_tnc```."
   ]
  },
  {
   "cell_type": "code",
   "execution_count": 73,
   "metadata": {
    "collapsed": true
   },
   "outputs": [],
   "source": [
    "import scipy.optimize as opt  "
   ]
  },
  {
   "cell_type": "code",
   "execution_count": 74,
   "metadata": {
    "collapsed": true
   },
   "outputs": [],
   "source": [
    "# The x0 parameter is the initial guess so I will set that to inital_theta.\n",
    "result = opt.fmin_tnc(func=costFunction, x0=initial_theta, args=(X, y))"
   ]
  },
  {
   "cell_type": "code",
   "execution_count": 75,
   "metadata": {},
   "outputs": [
    {
     "name": "stdout",
     "output_type": "stream",
     "text": [
      "Thetas found by fmin_tnc function:  [-7.65282614  0.74252063  0.54925607]\n"
     ]
    }
   ],
   "source": [
    "print('Thetas found by fmin_tnc function: ', result[0]);"
   ]
  },
  {
   "cell_type": "code",
   "execution_count": 76,
   "metadata": {},
   "outputs": [
    {
     "name": "stdout",
     "output_type": "stream",
     "text": [
      "Cost at theta found by scipy fmin_tnc:  0.123972041854\n"
     ]
    }
   ],
   "source": [
    "optimal_theta = result[0]\n",
    "(cost, grad) = costFunction(optimal_theta, X, y)\n",
    "print('Cost at theta found by scipy fmin_tnc: ', cost);"
   ]
  },
  {
   "cell_type": "markdown",
   "metadata": {},
   "source": [
    "## Plotting the decision boundary\n",
    "\n",
    "In the course, the MATLAB function was given to us as ```plotDecisionBoundary.m```. Initially, my strategy was going to do a nearly line-for-line translation of the MATLAB code to Python syntax, but since the plotting is quite different, I just ended up testing code and coming up with my own function."
   ]
  },
  {
   "cell_type": "markdown",
   "metadata": {},
   "source": [
    "### Determine the decision boundary linear equation."
   ]
  },
  {
   "cell_type": "markdown",
   "metadata": {},
   "source": [
    "From the lectures:\n",
    "$ h_{\\theta}(x) = g(\\theta^Tx) \\geq 0.5$ when $\\theta^Tx \\geq 0$.\n",
    "\n",
    "In the case of two features:\n",
    "\n",
    "$ h_{\\theta}(x) = g(\\theta_{0} + \\theta_{1}x_{1} + \\theta_{2}x_{2})$\n",
    "\n",
    "Therefore: $\\theta_{0} + \\theta_{1}x_{1} + \\theta_{2}x_{2} \\geq 0$\n",
    "\n",
    "We can re-arrange to solve for the linear equation: $ x_{2} = \\frac{-\\theta_{1}x_{1} - \\theta_{0}}{\\theta_{2}}\\ $\n",
    "\n",
    "\n"
   ]
  },
  {
   "cell_type": "code",
   "execution_count": 77,
   "metadata": {},
   "outputs": [
    {
     "name": "stdout",
     "output_type": "stream",
     "text": [
      "slope:  -1.35186604306\n",
      "y-intercept:  13.9330751618\n"
     ]
    }
   ],
   "source": [
    "# Calculations for the decision boundary line equation.\n",
    "slope = -optimal_theta[1]/optimal_theta[2]\n",
    "yint = -optimal_theta[0]/optimal_theta[2]\n",
    "print('slope: ', slope)\n",
    "print('y-intercept: ', yint)"
   ]
  },
  {
   "cell_type": "markdown",
   "metadata": {},
   "source": [
    "The equation of the line is therefore:\n",
    "$$ x_{2} = -1.352x_{1} + 13.933 $$\n",
    "\n",
    "Looking at the plot of data above, this seems like a reasonable equation for the decision boundary."
   ]
  },
  {
   "cell_type": "markdown",
   "metadata": {},
   "source": [
    "###  ```plotDecisionBoundary``` function"
   ]
  },
  {
   "cell_type": "code",
   "execution_count": 78,
   "metadata": {
    "collapsed": true
   },
   "outputs": [],
   "source": [
    "def plotDecisionBoundary(theta, X, y):\n",
    "    \n",
    "    # Plot data\n",
    "    f, (ax1) = plt.subplots(1,1);\n",
    "    mask = y==0;\n",
    "    ax1.scatter(x=X.loc[mask,gene1], y=X.loc[mask,gene2], color='blue', label='neg');\n",
    "    mask = y==1;\n",
    "    ax1.scatter(x=X.loc[mask,gene1], y=X.loc[mask,gene2], color='red', label='pos');\n",
    "    ax1.set_xlabel('gene 1');\n",
    "    ax1.set_ylabel('gene 2');\n",
    "\n",
    "    # Calculations for the decision boundary line equation\n",
    "    slope = -theta[1]/theta[2]\n",
    "    yint = -theta[0]/theta[2]\n",
    "\n",
    "    # Plot the decision boundary\n",
    "    f_line = lambda x: slope*x + yint;\n",
    "\n",
    "    # Use the min and max of x values\n",
    "    x = np.array([min(X.loc[:,gene1]),max(X.loc[:,gene1])]);\n",
    "    ax1.plot(x,f_line(x), c=\"orange\", label=\"decision boundary\");\n",
    "    ax1.set_ylim(bottom=-1)\n",
    "    ax1.legend();"
   ]
  },
  {
   "cell_type": "code",
   "execution_count": 79,
   "metadata": {},
   "outputs": [
    {
     "data": {
      "image/png": "[encoded data removed]",
      "text/plain": [
       "<matplotlib.figure.Figure at 0x120765fd0>"
      ]
     },
     "metadata": {},
     "output_type": "display_data"
    }
   ],
   "source": [
    "plotDecisionBoundary(optimal_theta, X, y)"
   ]
  },
  {
   "cell_type": "markdown",
   "metadata": {},
   "source": [
    "This seems like a very sensible decision boundary."
   ]
  },
  {
   "cell_type": "markdown",
   "metadata": {},
   "source": [
    "## Prediction and Accuracies\n",
    "\n",
    "The ML course instructed us to create a predict function and then use that to compute the accuracy of the predicted classification."
   ]
  },
  {
   "cell_type": "code",
   "execution_count": 38,
   "metadata": {
    "collapsed": true
   },
   "outputs": [],
   "source": [
    "# Prediction function\n",
    "def predict(theta, X):\n",
    "    h = sigmoid(np.dot(X, theta)).flatten()\n",
    "    p = h >= 0.5\n",
    "    return p"
   ]
  },
  {
   "cell_type": "code",
   "execution_count": 39,
   "metadata": {},
   "outputs": [
    {
     "name": "stdout",
     "output_type": "stream",
     "text": [
      "Train Accuracy:  97.2602739726\n"
     ]
    }
   ],
   "source": [
    "# Compute accuracy on our training set\n",
    "p = predict(optimal_theta, X);\n",
    "print('Train Accuracy: ', np.mean(p == y) * 100);"
   ]
  },
  {
   "cell_type": "markdown",
   "metadata": {},
   "source": [
    "## Using scikit-learn's logistic regression and regularization\n",
    "\n",
    "Let's look at the default theta values that are produced when using the [logistic regression function from scikit-learn (SKL)](http://scikit-learn.org/stable/modules/generated/sklearn.linear_model.LogisticRegression.html) and compare with the thetas we calculated with `fmin_tnc` optimization."
   ]
  },
  {
   "cell_type": "code",
   "execution_count": 80,
   "metadata": {
    "collapsed": true
   },
   "outputs": [],
   "source": [
    "from sklearn.linear_model import LogisticRegression"
   ]
  },
  {
   "cell_type": "code",
   "execution_count": 98,
   "metadata": {
    "collapsed": true
   },
   "outputs": [],
   "source": [
    "# Instantiate a logistic regression model, and fit with X and y \n",
    "model = LogisticRegression()\n",
    "model = model.fit(X, y)"
   ]
  },
  {
   "cell_type": "code",
   "execution_count": 99,
   "metadata": {},
   "outputs": [
    {
     "name": "stdout",
     "output_type": "stream",
     "text": [
      "Thetas from SKL logistic regression:  [-1.93428654  0.36535035  0.35153828]\n",
      "Thetas found by fmin_tnc function:  [-7.65282614  0.74252063  0.54925607]\n"
     ]
    }
   ],
   "source": [
    "print('Thetas from SKL logistic regression: ', model.coef_[0])\n",
    "print('Thetas found by fmin_tnc function: ', result[0]);"
   ]
  },
  {
   "cell_type": "markdown",
   "metadata": {},
   "source": [
    "Why are the values different using the SKL approach versus what we determined using our optimization function? If one were to use default parameter values of SKL logistic regression, it might be easy to overlook that L2 (ridge) regularization is used as a default for this function. The optimal thetas we determined above with `fmin_tnc` did not use regularization. While regularization is not necessary in this simplified (two-feature) case, it can be used to minimize overfitting when datasets have many features.\n",
    "\n",
    "The logistic regression cost function with L2 regularization as taught in the ML course is\n",
    "\n",
    "$$ J(\\theta) = \\frac{1}{m} \\sum_{i=1}^{m}[-y^{(i)}\\log(h_{\\theta}(x^{(i)}))-(1-y^{(i)})\\log(1-h_{\\theta}(x^{(i)}))] + \\frac{\\lambda}{2m}\\sum_{j=1}^{n}\\theta^2_{j} $$"
   ]
  },
  {
   "cell_type": "markdown",
   "metadata": {},
   "source": [
    "How do we turn off regularization in the SKL function? SKL does not allow us to remove regularization directly, but we can nullify the regularization term by setting lambda to zero. The SKL function controls regularization strength by the parameter `C` which is inversely proportional to lambda. Therefore, one must [set the C value to be large](https://stackoverflow.com/questions/25427650/sklearn-logisticregression-without-regularization) to drive the regularization parameter towards 0. "
   ]
  },
  {
   "cell_type": "code",
   "execution_count": 100,
   "metadata": {},
   "outputs": [
    {
     "name": "stdout",
     "output_type": "stream",
     "text": [
      "[1, 10, 100, 1000, 10000, 100000]\n"
     ]
    }
   ],
   "source": [
    "c_values = [10**i for i in range(6)]\n",
    "print(c_values)"
   ]
  },
  {
   "cell_type": "code",
   "execution_count": 103,
   "metadata": {},
   "outputs": [
    {
     "name": "stdout",
     "output_type": "stream",
     "text": [
      "C =  1 \t SKL thetas:  [-1.93428654  0.36535035  0.35153828]\n",
      "C =  10 \t SKL thetas:  [-3.18925315  0.6161684   0.4764179 ]\n",
      "C =  100 \t SKL thetas:  [-3.73121761  0.72361884  0.53807019]\n",
      "C =  1000 \t SKL thetas:  [-3.81569535  0.74039178  0.54798173]\n",
      "C =  10000 \t SKL thetas:  [-3.82468845  0.742178    0.54904109]\n",
      "C =  100000 \t SKL thetas:  [-3.82559369  0.7423578   0.54914777]\n",
      "Thetas found by fmin_tnc function:  [-7.65282614  0.74252063  0.54925607]\n"
     ]
    }
   ],
   "source": [
    "for i in c_values:\n",
    "    model_wreg = LogisticRegression(C=i)\n",
    "    model_wreg = model_wreg.fit(X, y)\n",
    "    print('C = ', i, '\\t SKL thetas: ', model_wreg.coef_[0])\n",
    "print('Thetas found by fmin_tnc function: ', result[0])"
   ]
  },
  {
   "cell_type": "markdown",
   "metadata": {},
   "source": [
    "As you can see, the $\\theta_1$ and $\\theta_2$ values match nearly exactly. The $\\theta_0$ values differ by exactly a factor of 2, which is reflective of an [optional factor](https://stats.stackexchange.com/questions/57628/why-is-the-logistic-regression-cost-function-scaled-by-the-number-of-examples) to include in the calculation."
   ]
  },
  {
   "cell_type": "markdown",
   "metadata": {},
   "source": [
    "## Conclusion"
   ]
  },
  {
   "cell_type": "markdown",
   "metadata": {},
   "source": [
    "Others had translated the MATLAB code to Python for the assignment of the course. Check out those Python implementations I found ([here](http://aimotion.blogspot.com/2011/11/machine-learning-with-python-logistic.html), [here](http://nbviewer.jupyter.org/github/tfolkman/learningwithdata/blob/master/Logistic%20Gradient%20Descent.ipynb), and [here](http://www.johnwittenauer.net/machine-learning-exercises-in-python-part-3/)) which also helped me as I was doing this small project. \n",
    "\n",
    "In this post, I chose a subset of data from a personal project, implemented step-by-step logistic regression by translating MATLAB code to Python, and compared the theta values produced by the optimization function to the theta values derived from scikit-learn's logistic regression function. This provided an opportunity to re-inforce lessons from the Machine Learning course. Seeing how the two methods arrive at the same values also provided cross-confirmation for me.\n",
    "\n",
    "Scikit-learn is an amazing package and for most technical projects, you would not write out your own logistic regression function. But writing the function and comparing values helps make the SKL logistic regression a little bit less of a black box.\n",
    "\n",
    "*This post was originally created on March 18, 2018.*"
   ]
  }
 ],
 "metadata": {
  "kernelspec": {
   "display_name": "Python 3",
   "language": "python",
   "name": "python3"
  },
  "language_info": {
   "codemirror_mode": {
    "name": "ipython",
    "version": 3
   },
   "file_extension": ".py",
   "mimetype": "text/x-python",
   "name": "python",
   "nbconvert_exporter": "python",
   "pygments_lexer": "ipython3",
   "version": "3.5.5"
  },
  "toc": {
   "nav_menu": {},
   "number_sections": true,
   "sideBar": true,
   "skip_h1_title": false,
   "toc_cell": false,
   "toc_position": {
    "height": "625px",
    "left": "0px",
    "right": "833px",
    "top": "106px",
    "width": "268px"
   },
   "toc_section_display": "block",
   "toc_window_display": true
  },
  "varInspector": {
   "cols": {
    "lenName": 16,
    "lenType": 16,
    "lenVar": 40
   },
   "kernels_config": {
    "python": {
     "delete_cmd_postfix": "",
     "delete_cmd_prefix": "del ",
     "library": "var_list.py",
     "varRefreshCmd": "print(var_dic_list())"
    },
    "r": {
     "delete_cmd_postfix": ") ",
     "delete_cmd_prefix": "rm(",
     "library": "var_list.r",
     "varRefreshCmd": "cat(var_dic_list()) "
    }
   },
   "types_to_exclude": [
    "module",
    "function",
    "builtin_function_or_method",
    "instance",
    "_Feature"
   ],
   "window_display": false
  }
 },
 "nbformat": 4,
 "nbformat_minor": 1
}
